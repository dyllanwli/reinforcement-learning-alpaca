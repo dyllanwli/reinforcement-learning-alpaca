{
 "metadata": {
  "language_info": {
   "codemirror_mode": {
    "name": "ipython",
    "version": 3
   },
   "file_extension": ".py",
   "mimetype": "text/x-python",
   "name": "python",
   "nbconvert_exporter": "python",
   "pygments_lexer": "ipython3",
   "version": "3.8.3-final"
  },
  "orig_nbformat": 2,
  "kernelspec": {
   "name": "python3",
   "display_name": "Python 3.8.3 64-bit ('base': conda)",
   "metadata": {
    "interpreter": {
     "hash": "fb68e97cf982e3f6ab7342552d8743c1a5f1ae1ee9b5b2897e66ae9dadec0798"
    }
   }
  }
 },
 "nbformat": 4,
 "nbformat_minor": 2,
 "cells": [
  {
   "cell_type": "code",
   "execution_count": 1,
   "metadata": {},
   "outputs": [],
   "source": [
    "import sys\n",
    "sys.path.insert(0, \"../utils/\")\n",
    "\n",
    "import utils\n",
    "key_id, secret_key = utils.read_secret_key(\"../secret_key.tk\")"
   ]
  },
  {
   "cell_type": "code",
   "execution_count": 6,
   "metadata": {},
   "outputs": [
    {
     "output_type": "stream",
     "name": "stdout",
     "text": [
      "api list positions: []\naccount status: ACTIVE\n"
     ]
    }
   ],
   "source": [
    "import alpaca_trade_api as tradeapi\n",
    "\n",
    "api = tradeapi.REST(key_id, secret_key, base_url='https://paper-api.alpaca.markets')\n",
    "account = api.get_account()\n",
    "print(\"api list positions:\", api.list_positions())\n",
    "print(\"account status:\", account.status)"
   ]
  },
  {
   "cell_type": "code",
   "execution_count": null,
   "metadata": {},
   "outputs": [],
   "source": []
  }
 ]
}